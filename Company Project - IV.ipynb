{
 "cells": [
  {
   "cell_type": "code",
   "execution_count": 391,
   "id": "35a70bcc",
   "metadata": {},
   "outputs": [],
   "source": [
    "import pandas as pd\n",
    "import numpy as np\n",
    "from sklearn.ensemble import RandomForestRegressor\n",
    "from sklearn.metrics import mean_squared_error, r2_score\n",
    "from sklearn.model_selection import train_test_split\n",
    "from sklearn.preprocessing import StandardScaler\n",
    "from sklearn.feature_selection import SelectFromModel\n",
    "from sklearn.ensemble import IsolationForest\n",
    "from sklearn.model_selection import GridSearchCV\n",
    "import category_encoders as ce\n",
    "from scipy.spatial import distance\n",
    "from sklearn.feature_selection import RFE\n",
    "from scipy.spatial.distance import mahalanobis\n",
    "import seaborn as sns"
   ]
  },
  {
   "cell_type": "code",
   "execution_count": 392,
   "id": "e0a424d3",
   "metadata": {},
   "outputs": [],
   "source": [
    "new_data4 = pd.read_csv('cleaned_dataset.csv')"
   ]
  },
  {
   "cell_type": "code",
   "execution_count": 393,
   "id": "ed0b7111",
   "metadata": {},
   "outputs": [
    {
     "data": {
      "text/html": [
       "<div>\n",
       "<style scoped>\n",
       "    .dataframe tbody tr th:only-of-type {\n",
       "        vertical-align: middle;\n",
       "    }\n",
       "\n",
       "    .dataframe tbody tr th {\n",
       "        vertical-align: top;\n",
       "    }\n",
       "\n",
       "    .dataframe thead th {\n",
       "        text-align: right;\n",
       "    }\n",
       "</style>\n",
       "<table border=\"1\" class=\"dataframe\">\n",
       "  <thead>\n",
       "    <tr style=\"text-align: right;\">\n",
       "      <th></th>\n",
       "      <th>Unique ID</th>\n",
       "      <th>Country IDs</th>\n",
       "      <th>Country Names</th>\n",
       "      <th>Age</th>\n",
       "      <th>Industry</th>\n",
       "      <th>Years of Experience</th>\n",
       "      <th>Job Title</th>\n",
       "      <th>Education</th>\n",
       "      <th>Knows English</th>\n",
       "      <th>Number of Connections</th>\n",
       "      <th>Endorsements</th>\n",
       "      <th>Profile Picture</th>\n",
       "      <th>Volunteer Experience</th>\n",
       "      <th>WFH</th>\n",
       "      <th>Company Type</th>\n",
       "      <th>Company Size</th>\n",
       "      <th>YOE in Current Company</th>\n",
       "      <th>Received Promotion</th>\n",
       "      <th>Number of People Under</th>\n",
       "      <th>Salary</th>\n",
       "    </tr>\n",
       "  </thead>\n",
       "  <tbody>\n",
       "    <tr>\n",
       "      <th>0</th>\n",
       "      <td>1.0</td>\n",
       "      <td>5.0</td>\n",
       "      <td>Australia</td>\n",
       "      <td>23.0</td>\n",
       "      <td>Manufacturing</td>\n",
       "      <td>3.0</td>\n",
       "      <td>Software Engineer</td>\n",
       "      <td>Bachelor</td>\n",
       "      <td>1.0</td>\n",
       "      <td>515.0</td>\n",
       "      <td>31.0</td>\n",
       "      <td>0.0</td>\n",
       "      <td>0.0</td>\n",
       "      <td>0.0</td>\n",
       "      <td>Private</td>\n",
       "      <td>10000.0</td>\n",
       "      <td>1.0</td>\n",
       "      <td>1</td>\n",
       "      <td>0.0</td>\n",
       "      <td>122070.20</td>\n",
       "    </tr>\n",
       "    <tr>\n",
       "      <th>1</th>\n",
       "      <td>2.0</td>\n",
       "      <td>1.0</td>\n",
       "      <td>USA</td>\n",
       "      <td>35.0</td>\n",
       "      <td>Retail</td>\n",
       "      <td>7.0</td>\n",
       "      <td>Doctor</td>\n",
       "      <td>Bachelor</td>\n",
       "      <td>1.0</td>\n",
       "      <td>4.0</td>\n",
       "      <td>0.0</td>\n",
       "      <td>0.0</td>\n",
       "      <td>1.0</td>\n",
       "      <td>0.0</td>\n",
       "      <td>Private</td>\n",
       "      <td>10.0</td>\n",
       "      <td>3.0</td>\n",
       "      <td>0</td>\n",
       "      <td>0.0</td>\n",
       "      <td>69986.76</td>\n",
       "    </tr>\n",
       "    <tr>\n",
       "      <th>2</th>\n",
       "      <td>3.0</td>\n",
       "      <td>4.0</td>\n",
       "      <td>Canada</td>\n",
       "      <td>32.0</td>\n",
       "      <td>Finance</td>\n",
       "      <td>22.0</td>\n",
       "      <td>Business Analyst</td>\n",
       "      <td>PhD</td>\n",
       "      <td>1.0</td>\n",
       "      <td>203.0</td>\n",
       "      <td>10.0</td>\n",
       "      <td>0.0</td>\n",
       "      <td>0.0</td>\n",
       "      <td>0.0</td>\n",
       "      <td>Public</td>\n",
       "      <td>100.0</td>\n",
       "      <td>12.0</td>\n",
       "      <td>0</td>\n",
       "      <td>0.0</td>\n",
       "      <td>131893.80</td>\n",
       "    </tr>\n",
       "    <tr>\n",
       "      <th>3</th>\n",
       "      <td>4.0</td>\n",
       "      <td>4.0</td>\n",
       "      <td>Canada</td>\n",
       "      <td>28.0</td>\n",
       "      <td>Tech</td>\n",
       "      <td>10.0</td>\n",
       "      <td>Marketing Associate</td>\n",
       "      <td>Bachelor</td>\n",
       "      <td>1.0</td>\n",
       "      <td>89.0</td>\n",
       "      <td>5.0</td>\n",
       "      <td>1.0</td>\n",
       "      <td>0.0</td>\n",
       "      <td>1.0</td>\n",
       "      <td>Non-profit</td>\n",
       "      <td>100.0</td>\n",
       "      <td>7.0</td>\n",
       "      <td>0</td>\n",
       "      <td>0.0</td>\n",
       "      <td>83108.47</td>\n",
       "    </tr>\n",
       "    <tr>\n",
       "      <th>4</th>\n",
       "      <td>5.0</td>\n",
       "      <td>4.0</td>\n",
       "      <td>Canada</td>\n",
       "      <td>31.0</td>\n",
       "      <td>Education</td>\n",
       "      <td>20.0</td>\n",
       "      <td>Professor</td>\n",
       "      <td>Bachelor</td>\n",
       "      <td>1.0</td>\n",
       "      <td>45.0</td>\n",
       "      <td>1.0</td>\n",
       "      <td>1.0</td>\n",
       "      <td>1.0</td>\n",
       "      <td>1.0</td>\n",
       "      <td>Non-profit</td>\n",
       "      <td>10000.0</td>\n",
       "      <td>17.0</td>\n",
       "      <td>0</td>\n",
       "      <td>37.0</td>\n",
       "      <td>117729.30</td>\n",
       "    </tr>\n",
       "  </tbody>\n",
       "</table>\n",
       "</div>"
      ],
      "text/plain": [
       "   Unique ID  Country IDs Country Names   Age       Industry  \\\n",
       "0        1.0          5.0     Australia  23.0  Manufacturing   \n",
       "1        2.0          1.0           USA  35.0         Retail   \n",
       "2        3.0          4.0        Canada  32.0        Finance   \n",
       "3        4.0          4.0        Canada  28.0           Tech   \n",
       "4        5.0          4.0        Canada  31.0      Education   \n",
       "\n",
       "   Years of Experience            Job Title Education  Knows English  \\\n",
       "0                  3.0    Software Engineer  Bachelor            1.0   \n",
       "1                  7.0               Doctor  Bachelor            1.0   \n",
       "2                 22.0     Business Analyst       PhD            1.0   \n",
       "3                 10.0  Marketing Associate  Bachelor            1.0   \n",
       "4                 20.0            Professor  Bachelor            1.0   \n",
       "\n",
       "   Number of Connections  Endorsements  Profile Picture  Volunteer Experience  \\\n",
       "0                  515.0          31.0              0.0                   0.0   \n",
       "1                    4.0           0.0              0.0                   1.0   \n",
       "2                  203.0          10.0              0.0                   0.0   \n",
       "3                   89.0           5.0              1.0                   0.0   \n",
       "4                   45.0           1.0              1.0                   1.0   \n",
       "\n",
       "   WFH Company Type  Company Size  YOE in Current Company  Received Promotion  \\\n",
       "0  0.0      Private       10000.0                     1.0                   1   \n",
       "1  0.0      Private          10.0                     3.0                   0   \n",
       "2  0.0       Public         100.0                    12.0                   0   \n",
       "3  1.0   Non-profit         100.0                     7.0                   0   \n",
       "4  1.0   Non-profit       10000.0                    17.0                   0   \n",
       "\n",
       "   Number of People Under     Salary  \n",
       "0                     0.0  122070.20  \n",
       "1                     0.0   69986.76  \n",
       "2                     0.0  131893.80  \n",
       "3                     0.0   83108.47  \n",
       "4                    37.0  117729.30  "
      ]
     },
     "execution_count": 393,
     "metadata": {},
     "output_type": "execute_result"
    }
   ],
   "source": [
    "new_data4.head()"
   ]
  },
  {
   "cell_type": "code",
   "execution_count": 394,
   "id": "4fb61b7a",
   "metadata": {},
   "outputs": [],
   "source": [
    "columns_to_drop = ['Unique ID', 'Country IDs']\n",
    "new_data4.drop(columns=columns_to_drop, inplace=True)"
   ]
  },
  {
   "cell_type": "code",
   "execution_count": 395,
   "id": "3d09a23c",
   "metadata": {},
   "outputs": [],
   "source": [
    "new_data4 = new_data4.dropna()"
   ]
  },
  {
   "cell_type": "code",
   "execution_count": 396,
   "id": "671713e0",
   "metadata": {},
   "outputs": [
    {
     "name": "stdout",
     "output_type": "stream",
     "text": [
      "<class 'pandas.core.frame.DataFrame'>\n",
      "RangeIndex: 2000 entries, 0 to 1999\n",
      "Data columns (total 18 columns):\n",
      " #   Column                  Non-Null Count  Dtype  \n",
      "---  ------                  --------------  -----  \n",
      " 0   Country Names           2000 non-null   object \n",
      " 1   Age                     2000 non-null   float64\n",
      " 2   Industry                2000 non-null   object \n",
      " 3   Years of Experience     2000 non-null   float64\n",
      " 4   Job Title               2000 non-null   object \n",
      " 5   Education               2000 non-null   object \n",
      " 6   Knows English           2000 non-null   float64\n",
      " 7   Number of Connections   2000 non-null   float64\n",
      " 8   Endorsements            2000 non-null   float64\n",
      " 9   Profile Picture         2000 non-null   float64\n",
      " 10  Volunteer Experience    2000 non-null   float64\n",
      " 11  WFH                     2000 non-null   float64\n",
      " 12  Company Type            2000 non-null   object \n",
      " 13  Company Size            2000 non-null   float64\n",
      " 14  YOE in Current Company  2000 non-null   float64\n",
      " 15  Received Promotion      2000 non-null   int64  \n",
      " 16  Number of People Under  2000 non-null   float64\n",
      " 17  Salary                  2000 non-null   float64\n",
      "dtypes: float64(12), int64(1), object(5)\n",
      "memory usage: 281.4+ KB\n"
     ]
    }
   ],
   "source": [
    "new_data4.info()"
   ]
  },
  {
   "cell_type": "code",
   "execution_count": 397,
   "id": "50fd7779",
   "metadata": {},
   "outputs": [],
   "source": [
    "encoder  = ce.TargetEncoder(cols=['Country Names', 'Industry', 'Job Title', 'Education', 'Company Type'])"
   ]
  },
  {
   "cell_type": "code",
   "execution_count": 398,
   "id": "12df97d7",
   "metadata": {},
   "outputs": [],
   "source": [
    "new_data_encoded = encoder.fit_transform(new_data4, new_data4['Salary'])"
   ]
  },
  {
   "cell_type": "code",
   "execution_count": 399,
   "id": "4ac7a49f",
   "metadata": {},
   "outputs": [
    {
     "name": "stdout",
     "output_type": "stream",
     "text": [
      "<class 'pandas.core.frame.DataFrame'>\n",
      "RangeIndex: 2000 entries, 0 to 1999\n",
      "Data columns (total 18 columns):\n",
      " #   Column                  Non-Null Count  Dtype  \n",
      "---  ------                  --------------  -----  \n",
      " 0   Country Names           2000 non-null   float64\n",
      " 1   Age                     2000 non-null   float64\n",
      " 2   Industry                2000 non-null   float64\n",
      " 3   Years of Experience     2000 non-null   float64\n",
      " 4   Job Title               2000 non-null   float64\n",
      " 5   Education               2000 non-null   float64\n",
      " 6   Knows English           2000 non-null   float64\n",
      " 7   Number of Connections   2000 non-null   float64\n",
      " 8   Endorsements            2000 non-null   float64\n",
      " 9   Profile Picture         2000 non-null   float64\n",
      " 10  Volunteer Experience    2000 non-null   float64\n",
      " 11  WFH                     2000 non-null   float64\n",
      " 12  Company Type            2000 non-null   float64\n",
      " 13  Company Size            2000 non-null   float64\n",
      " 14  YOE in Current Company  2000 non-null   float64\n",
      " 15  Received Promotion      2000 non-null   int64  \n",
      " 16  Number of People Under  2000 non-null   float64\n",
      " 17  Salary                  2000 non-null   float64\n",
      "dtypes: float64(17), int64(1)\n",
      "memory usage: 281.4 KB\n"
     ]
    }
   ],
   "source": [
    "new_data_encoded.info()"
   ]
  },
  {
   "cell_type": "code",
   "execution_count": 400,
   "id": "278c157a",
   "metadata": {},
   "outputs": [],
   "source": [
    "data = new_data_encoded.drop('Salary', axis=1).values\n",
    "mean = np.mean(data, axis=0)\n",
    "cov = np.cov(data, rowvar=False)"
   ]
  },
  {
   "cell_type": "code",
   "execution_count": 401,
   "id": "99f36be5",
   "metadata": {},
   "outputs": [],
   "source": [
    "mahalanobis_dist = [distance.mahalanobis(point, mean, np.linalg.inv(cov)) for point in data]"
   ]
  },
  {
   "cell_type": "code",
   "execution_count": 407,
   "id": "7e4d78c8",
   "metadata": {},
   "outputs": [],
   "source": [
    "X = new_data_encoded.drop(['Salary'], axis=1)\n",
    "mean = X.mean()\n",
    "cov = X.cov()\n",
    "distances = []\n",
    "for i, row in X.iterrows():\n",
    "    distances.append(mahalanobis(row, mean, np.linalg.inv(cov)))\n",
    "threshold = 2.0 * np.std(distances)\n",
    "outliers = []\n",
    "for i, d in enumerate(distances):\n",
    "    if d > threshold:\n",
    "        outliers.append(i)\n",
    "                     "
   ]
  },
  {
   "cell_type": "code",
   "execution_count": 408,
   "id": "d5bb9710",
   "metadata": {},
   "outputs": [
    {
     "data": {
      "image/png": "[encoded data removed]",
      "text/plain": [
       "<Figure size 800x600 with 1 Axes>"
      ]
     },
     "metadata": {},
     "output_type": "display_data"
    }
   ],
   "source": [
    "plt.figure(figsize=(8, 6))\n",
    "sns.boxplot(data=df, y='Distances')\n",
    "plt.title('Mahalanobis Distances Boxplot')\n",
    "plt.ylabel('Mahalanobis Distance')\n",
    "plt.show()"
   ]
  },
  {
   "cell_type": "code",
   "execution_count": 433,
   "id": "f5a137f0",
   "metadata": {},
   "outputs": [
    {
     "name": "stdout",
     "output_type": "stream",
     "text": [
      "Outliers: [2, 4, 5, 6, 7, 8, 9]\n",
      "Variable names of outliers:\n",
      "          0         1         2\n",
      "2  0.437587  0.891773  0.963663\n",
      "4  0.568045  0.925597  0.071036\n",
      "5  0.087129  0.020218  0.832620\n",
      "6  0.778157  0.870012  0.978618\n",
      "7  0.799159  0.461479  0.780529\n",
      "8  0.118274  0.639921  0.143353\n",
      "9  0.944669  0.521848  0.414662\n"
     ]
    }
   ],
   "source": [
    "outliers_data = data.iloc[outliers]\n",
    "\n",
    "print(\"Outliers:\", outliers)\n",
    "print(\"Variable names of outliers:\")\n",
    "print(outliers_data)"
   ]
  },
  {
   "cell_type": "code",
   "execution_count": 435,
   "id": "35c4b155",
   "metadata": {},
   "outputs": [],
   "source": [
    "\n",
    "columns_to_remove = [2, 4, 5, 8, 9]\n",
    "\n",
    "\n",
    "new_data_filtered = new_data_encoded.drop(new_data_encoded.columns[columns_to_remove], axis=1)\n"
   ]
  },
  {
   "cell_type": "code",
   "execution_count": 436,
   "id": "11b29aaa",
   "metadata": {},
   "outputs": [
    {
     "name": "stdout",
     "output_type": "stream",
     "text": [
      "<class 'pandas.core.frame.DataFrame'>\n",
      "RangeIndex: 2000 entries, 0 to 1999\n",
      "Data columns (total 13 columns):\n",
      " #   Column                  Non-Null Count  Dtype  \n",
      "---  ------                  --------------  -----  \n",
      " 0   Country Names           2000 non-null   float64\n",
      " 1   Age                     2000 non-null   float64\n",
      " 2   Years of Experience     2000 non-null   float64\n",
      " 3   Knows English           2000 non-null   float64\n",
      " 4   Number of Connections   2000 non-null   float64\n",
      " 5   Volunteer Experience    2000 non-null   float64\n",
      " 6   WFH                     2000 non-null   float64\n",
      " 7   Company Type            2000 non-null   float64\n",
      " 8   Company Size            2000 non-null   float64\n",
      " 9   YOE in Current Company  2000 non-null   float64\n",
      " 10  Received Promotion      2000 non-null   int64  \n",
      " 11  Number of People Under  2000 non-null   float64\n",
      " 12  Salary                  2000 non-null   float64\n",
      "dtypes: float64(12), int64(1)\n",
      "memory usage: 203.3 KB\n"
     ]
    }
   ],
   "source": [
    "new_data_filtered.info()"
   ]
  },
  {
   "cell_type": "code",
   "execution_count": 437,
   "id": "d7edc25f",
   "metadata": {},
   "outputs": [],
   "source": [
    "X = new_data_filtered.drop(\"Salary\", axis=1)\n",
    "y = new_data_filtered[\"Salary\"]"
   ]
  },
  {
   "cell_type": "code",
   "execution_count": 438,
   "id": "0b003d02",
   "metadata": {},
   "outputs": [],
   "source": [
    "X_train, X_test, y_train, y_test = train_test_split(X, y, test_size=0.2, random_state=42)"
   ]
  },
  {
   "cell_type": "code",
   "execution_count": 439,
   "id": "b4ea2039",
   "metadata": {},
   "outputs": [
    {
     "data": {
      "text/html": [
       "<style>#sk-container-id-27 {color: black;}#sk-container-id-27 pre{padding: 0;}#sk-container-id-27 div.sk-toggleable {background-color: white;}#sk-container-id-27 label.sk-toggleable__label {cursor: pointer;display: block;width: 100%;margin-bottom: 0;padding: 0.3em;box-sizing: border-box;text-align: center;}#sk-container-id-27 label.sk-toggleable__label-arrow:before {content: \"▸\";float: left;margin-right: 0.25em;color: #696969;}#sk-container-id-27 label.sk-toggleable__label-arrow:hover:before {color: black;}#sk-container-id-27 div.sk-estimator:hover label.sk-toggleable__label-arrow:before {color: black;}#sk-container-id-27 div.sk-toggleable__content {max-height: 0;max-width: 0;overflow: hidden;text-align: left;background-color: #f0f8ff;}#sk-container-id-27 div.sk-toggleable__content pre {margin: 0.2em;color: black;border-radius: 0.25em;background-color: #f0f8ff;}#sk-container-id-27 input.sk-toggleable__control:checked~div.sk-toggleable__content {max-height: 200px;max-width: 100%;overflow: auto;}#sk-container-id-27 input.sk-toggleable__control:checked~label.sk-toggleable__label-arrow:before {content: \"▾\";}#sk-container-id-27 div.sk-estimator input.sk-toggleable__control:checked~label.sk-toggleable__label {background-color: #d4ebff;}#sk-container-id-27 div.sk-label input.sk-toggleable__control:checked~label.sk-toggleable__label {background-color: #d4ebff;}#sk-container-id-27 input.sk-hidden--visually {border: 0;clip: rect(1px 1px 1px 1px);clip: rect(1px, 1px, 1px, 1px);height: 1px;margin: -1px;overflow: hidden;padding: 0;position: absolute;width: 1px;}#sk-container-id-27 div.sk-estimator {font-family: monospace;background-color: #f0f8ff;border: 1px dotted black;border-radius: 0.25em;box-sizing: border-box;margin-bottom: 0.5em;}#sk-container-id-27 div.sk-estimator:hover {background-color: #d4ebff;}#sk-container-id-27 div.sk-parallel-item::after {content: \"\";width: 100%;border-bottom: 1px solid gray;flex-grow: 1;}#sk-container-id-27 div.sk-label:hover label.sk-toggleable__label {background-color: #d4ebff;}#sk-container-id-27 div.sk-serial::before {content: \"\";position: absolute;border-left: 1px solid gray;box-sizing: border-box;top: 0;bottom: 0;left: 50%;z-index: 0;}#sk-container-id-27 div.sk-serial {display: flex;flex-direction: column;align-items: center;background-color: white;padding-right: 0.2em;padding-left: 0.2em;position: relative;}#sk-container-id-27 div.sk-item {position: relative;z-index: 1;}#sk-container-id-27 div.sk-parallel {display: flex;align-items: stretch;justify-content: center;background-color: white;position: relative;}#sk-container-id-27 div.sk-item::before, #sk-container-id-27 div.sk-parallel-item::before {content: \"\";position: absolute;border-left: 1px solid gray;box-sizing: border-box;top: 0;bottom: 0;left: 50%;z-index: -1;}#sk-container-id-27 div.sk-parallel-item {display: flex;flex-direction: column;z-index: 1;position: relative;background-color: white;}#sk-container-id-27 div.sk-parallel-item:first-child::after {align-self: flex-end;width: 50%;}#sk-container-id-27 div.sk-parallel-item:last-child::after {align-self: flex-start;width: 50%;}#sk-container-id-27 div.sk-parallel-item:only-child::after {width: 0;}#sk-container-id-27 div.sk-dashed-wrapped {border: 1px dashed gray;margin: 0 0.4em 0.5em 0.4em;box-sizing: border-box;padding-bottom: 0.4em;background-color: white;}#sk-container-id-27 div.sk-label label {font-family: monospace;font-weight: bold;display: inline-block;line-height: 1.2em;}#sk-container-id-27 div.sk-label-container {text-align: center;}#sk-container-id-27 div.sk-container {/* jupyter's `normalize.less` sets `[hidden] { display: none; }` but bootstrap.min.css set `[hidden] { display: none !important; }` so we also need the `!important` here to be able to override the default hidden behavior on the sphinx rendered scikit-learn.org. See: https://github.com/scikit-learn/scikit-learn/issues/21755 */display: inline-block !important;position: relative;}#sk-container-id-27 div.sk-text-repr-fallback {display: none;}</style><div id=\"sk-container-id-27\" class=\"sk-top-container\"><div class=\"sk-text-repr-fallback\"><pre>RandomForestRegressor(random_state=42)</pre><b>In a Jupyter environment, please rerun this cell to show the HTML representation or trust the notebook. <br />On GitHub, the HTML representation is unable to render, please try loading this page with nbviewer.org.</b></div><div class=\"sk-container\" hidden><div class=\"sk-item\"><div class=\"sk-estimator sk-toggleable\"><input class=\"sk-toggleable__control sk-hidden--visually\" id=\"sk-estimator-id-27\" type=\"checkbox\" checked><label for=\"sk-estimator-id-27\" class=\"sk-toggleable__label sk-toggleable__label-arrow\">RandomForestRegressor</label><div class=\"sk-toggleable__content\"><pre>RandomForestRegressor(random_state=42)</pre></div></div></div></div></div>"
      ],
      "text/plain": [
       "RandomForestRegressor(random_state=42)"
      ]
     },
     "execution_count": 439,
     "metadata": {},
     "output_type": "execute_result"
    }
   ],
   "source": [
    "random_forest_model = RandomForestRegressor(random_state=42)\n",
    "random_forest_model.fit(X_train, y_train)"
   ]
  },
  {
   "cell_type": "code",
   "execution_count": 440,
   "id": "52d43e79",
   "metadata": {},
   "outputs": [
    {
     "data": {
      "text/html": [
       "<style>#sk-container-id-28 {color: black;}#sk-container-id-28 pre{padding: 0;}#sk-container-id-28 div.sk-toggleable {background-color: white;}#sk-container-id-28 label.sk-toggleable__label {cursor: pointer;display: block;width: 100%;margin-bottom: 0;padding: 0.3em;box-sizing: border-box;text-align: center;}#sk-container-id-28 label.sk-toggleable__label-arrow:before {content: \"▸\";float: left;margin-right: 0.25em;color: #696969;}#sk-container-id-28 label.sk-toggleable__label-arrow:hover:before {color: black;}#sk-container-id-28 div.sk-estimator:hover label.sk-toggleable__label-arrow:before {color: black;}#sk-container-id-28 div.sk-toggleable__content {max-height: 0;max-width: 0;overflow: hidden;text-align: left;background-color: #f0f8ff;}#sk-container-id-28 div.sk-toggleable__content pre {margin: 0.2em;color: black;border-radius: 0.25em;background-color: #f0f8ff;}#sk-container-id-28 input.sk-toggleable__control:checked~div.sk-toggleable__content {max-height: 200px;max-width: 100%;overflow: auto;}#sk-container-id-28 input.sk-toggleable__control:checked~label.sk-toggleable__label-arrow:before {content: \"▾\";}#sk-container-id-28 div.sk-estimator input.sk-toggleable__control:checked~label.sk-toggleable__label {background-color: #d4ebff;}#sk-container-id-28 div.sk-label input.sk-toggleable__control:checked~label.sk-toggleable__label {background-color: #d4ebff;}#sk-container-id-28 input.sk-hidden--visually {border: 0;clip: rect(1px 1px 1px 1px);clip: rect(1px, 1px, 1px, 1px);height: 1px;margin: -1px;overflow: hidden;padding: 0;position: absolute;width: 1px;}#sk-container-id-28 div.sk-estimator {font-family: monospace;background-color: #f0f8ff;border: 1px dotted black;border-radius: 0.25em;box-sizing: border-box;margin-bottom: 0.5em;}#sk-container-id-28 div.sk-estimator:hover {background-color: #d4ebff;}#sk-container-id-28 div.sk-parallel-item::after {content: \"\";width: 100%;border-bottom: 1px solid gray;flex-grow: 1;}#sk-container-id-28 div.sk-label:hover label.sk-toggleable__label {background-color: #d4ebff;}#sk-container-id-28 div.sk-serial::before {content: \"\";position: absolute;border-left: 1px solid gray;box-sizing: border-box;top: 0;bottom: 0;left: 50%;z-index: 0;}#sk-container-id-28 div.sk-serial {display: flex;flex-direction: column;align-items: center;background-color: white;padding-right: 0.2em;padding-left: 0.2em;position: relative;}#sk-container-id-28 div.sk-item {position: relative;z-index: 1;}#sk-container-id-28 div.sk-parallel {display: flex;align-items: stretch;justify-content: center;background-color: white;position: relative;}#sk-container-id-28 div.sk-item::before, #sk-container-id-28 div.sk-parallel-item::before {content: \"\";position: absolute;border-left: 1px solid gray;box-sizing: border-box;top: 0;bottom: 0;left: 50%;z-index: -1;}#sk-container-id-28 div.sk-parallel-item {display: flex;flex-direction: column;z-index: 1;position: relative;background-color: white;}#sk-container-id-28 div.sk-parallel-item:first-child::after {align-self: flex-end;width: 50%;}#sk-container-id-28 div.sk-parallel-item:last-child::after {align-self: flex-start;width: 50%;}#sk-container-id-28 div.sk-parallel-item:only-child::after {width: 0;}#sk-container-id-28 div.sk-dashed-wrapped {border: 1px dashed gray;margin: 0 0.4em 0.5em 0.4em;box-sizing: border-box;padding-bottom: 0.4em;background-color: white;}#sk-container-id-28 div.sk-label label {font-family: monospace;font-weight: bold;display: inline-block;line-height: 1.2em;}#sk-container-id-28 div.sk-label-container {text-align: center;}#sk-container-id-28 div.sk-container {/* jupyter's `normalize.less` sets `[hidden] { display: none; }` but bootstrap.min.css set `[hidden] { display: none !important; }` so we also need the `!important` here to be able to override the default hidden behavior on the sphinx rendered scikit-learn.org. See: https://github.com/scikit-learn/scikit-learn/issues/21755 */display: inline-block !important;position: relative;}#sk-container-id-28 div.sk-text-repr-fallback {display: none;}</style><div id=\"sk-container-id-28\" class=\"sk-top-container\"><div class=\"sk-text-repr-fallback\"><pre>DecisionTreeRegressor(random_state=42)</pre><b>In a Jupyter environment, please rerun this cell to show the HTML representation or trust the notebook. <br />On GitHub, the HTML representation is unable to render, please try loading this page with nbviewer.org.</b></div><div class=\"sk-container\" hidden><div class=\"sk-item\"><div class=\"sk-estimator sk-toggleable\"><input class=\"sk-toggleable__control sk-hidden--visually\" id=\"sk-estimator-id-28\" type=\"checkbox\" checked><label for=\"sk-estimator-id-28\" class=\"sk-toggleable__label sk-toggleable__label-arrow\">DecisionTreeRegressor</label><div class=\"sk-toggleable__content\"><pre>DecisionTreeRegressor(random_state=42)</pre></div></div></div></div></div>"
      ],
      "text/plain": [
       "DecisionTreeRegressor(random_state=42)"
      ]
     },
     "execution_count": 440,
     "metadata": {},
     "output_type": "execute_result"
    }
   ],
   "source": [
    "decision_tree_model = DecisionTreeRegressor(random_state=42)\n",
    "decision_tree_model.fit(X_train, y_train)"
   ]
  },
  {
   "cell_type": "code",
   "execution_count": 441,
   "id": "b9cc9e39",
   "metadata": {},
   "outputs": [],
   "source": [
    "def calculate_rmse(model, X, y):\n",
    "    y_pred = model.predict(X)\n",
    "    mse = mean_squared_error(y, y_pred)\n",
    "    rmse = np.sqrt(mse)\n",
    "    return rmse"
   ]
  },
  {
   "cell_type": "code",
   "execution_count": 442,
   "id": "0750151b",
   "metadata": {},
   "outputs": [],
   "source": [
    "rmse_random_forest = calculate_rmse(random_forest_model, X_test, y_test)\n",
    "rmse_decision_tree = calculate_rmse(decision_tree_model, X_test, y_test)"
   ]
  },
  {
   "cell_type": "code",
   "execution_count": 443,
   "id": "08f852b1",
   "metadata": {},
   "outputs": [
    {
     "name": "stdout",
     "output_type": "stream",
     "text": [
      "Random Forest RMSE: 27969.696352574643\n",
      "Decision Tree RMSE: 41954.451224227734\n"
     ]
    }
   ],
   "source": [
    "print(\"Random Forest RMSE:\", rmse_random_forest)\n",
    "print(\"Decision Tree RMSE:\", rmse_decision_tree)"
   ]
  },
  {
   "cell_type": "code",
   "execution_count": 461,
   "id": "21560b00",
   "metadata": {},
   "outputs": [
    {
     "name": "stdout",
     "output_type": "stream",
     "text": [
      "Random Forest rmse: 167.24143132781018\n"
     ]
    }
   ],
   "source": [
    "test_rmse_1 = np.sqrt(rmse_random_forest)\n",
    "print(\"Random Forest rmse:\",test_rmse_1)"
   ]
  },
  {
   "cell_type": "code",
   "execution_count": 460,
   "id": "a478da58",
   "metadata": {},
   "outputs": [
    {
     "name": "stdout",
     "output_type": "stream",
     "text": [
      "Decision Tree rmse: 204.82785753951472\n"
     ]
    }
   ],
   "source": [
    "test_rmse_2 = np.sqrt(rmse_decision_tree)\n",
    "print(\"Decision Tree rmse:\",test_rmse_2)"
   ]
  },
  {
   "cell_type": "code",
   "execution_count": 446,
   "id": "69bc6cf4",
   "metadata": {},
   "outputs": [],
   "source": [
    "feature_importances = random_forest_model.feature_importances_"
   ]
  },
  {
   "cell_type": "code",
   "execution_count": 447,
   "id": "e8f09749",
   "metadata": {},
   "outputs": [],
   "source": [
    "feature_names = X.columns"
   ]
  },
  {
   "cell_type": "code",
   "execution_count": 448,
   "id": "d671f080",
   "metadata": {},
   "outputs": [],
   "source": [
    "sorted_idx = feature_importances.argsort()[::-1]"
   ]
  },
  {
   "cell_type": "code",
   "execution_count": 452,
   "id": "4c7b65e3",
   "metadata": {},
   "outputs": [],
   "source": [
    "top_n = 8"
   ]
  },
  {
   "cell_type": "code",
   "execution_count": 453,
   "id": "1ee2c18f",
   "metadata": {},
   "outputs": [
    {
     "data": {
      "image/png": "[encoded data removed]",
      "text/plain": [
       "<Figure size 1000x600 with 1 Axes>"
      ]
     },
     "metadata": {},
     "output_type": "display_data"
    }
   ],
   "source": [
    "plt.figure(figsize=(10, 6))\n",
    "plt.title(\"Top {} Feature Importances\".format(top_n))\n",
    "plt.bar(range(top_n), feature_importances[sorted_idx][:top_n], align=\"center\")\n",
    "plt.xticks(range(top_n), feature_names[sorted_idx][:top_n], rotation=45)\n",
    "plt.xlabel(\"Feature\")\n",
    "plt.ylabel(\"Feature Importance\")\n",
    "plt.tight_layout()\n",
    "plt.show()"
   ]
  },
  {
   "cell_type": "code",
   "execution_count": 455,
   "id": "bab37276",
   "metadata": {},
   "outputs": [
    {
     "data": {
      "image/png": "[encoded data removed]",
      "text/plain": [
       "<Figure size 1000x600 with 1 Axes>"
      ]
     },
     "metadata": {},
     "output_type": "display_data"
    }
   ],
   "source": [
    "\n",
    "decision_tree_importances = decision_tree_model.feature_importances_\n",
    "\n",
    "\n",
    "feature_names = X.columns\n",
    "\n",
    "\n",
    "sorted_idx = decision_tree_importances.argsort()[::-1]\n",
    "\n",
    "\n",
    "top_n = 8\n",
    "\n",
    "\n",
    "plt.figure(figsize=(10, 6))\n",
    "plt.title(\"Top {} Feature Importances (Decision Tree)\".format(top_n))\n",
    "plt.bar(range(top_n), decision_tree_importances[sorted_idx][:top_n], align=\"center\")\n",
    "plt.xticks(range(top_n), feature_names[sorted_idx][:top_n], rotation=45)\n",
    "plt.xlabel(\"Feature\")\n",
    "plt.ylabel(\"Feature Importance\")\n",
    "plt.tight_layout()\n",
    "plt.show()"
   ]
  },
  {
   "cell_type": "code",
   "execution_count": 462,
   "id": "7e8ecc5b",
   "metadata": {},
   "outputs": [],
   "source": [
    "y_pred_rf = random_forest_model.predict(X_test)\n",
    "r2_rf = r2_score(y_test, y_pred_rf)"
   ]
  },
  {
   "cell_type": "code",
   "execution_count": 463,
   "id": "3ac5a9db",
   "metadata": {},
   "outputs": [],
   "source": [
    "num_features = X_train.shape[1]"
   ]
  },
  {
   "cell_type": "code",
   "execution_count": 464,
   "id": "1f01c052",
   "metadata": {},
   "outputs": [],
   "source": [
    "adj_r2_rf = 1 - (1 - r2_rf) * (len(y_test) - 1) / (len(y_test) - num_features - 1)"
   ]
  },
  {
   "cell_type": "code",
   "execution_count": 465,
   "id": "a8e2517e",
   "metadata": {},
   "outputs": [],
   "source": [
    "y_pred_dt = decision_tree_model.predict(X_test)\n",
    "r2_dt = r2_score(y_test, y_pred_dt)"
   ]
  },
  {
   "cell_type": "code",
   "execution_count": 466,
   "id": "3e6f49e8",
   "metadata": {},
   "outputs": [],
   "source": [
    "adj_r2_dt = 1 - (1 - r2_dt) * (len(y_test) - 1) / (len(y_test) - num_features - 1)"
   ]
  },
  {
   "cell_type": "code",
   "execution_count": 467,
   "id": "4ec5b19b",
   "metadata": {},
   "outputs": [
    {
     "name": "stdout",
     "output_type": "stream",
     "text": [
      "Random Forest Model:\n",
      "R-squared: 0.8331\n",
      "Adjusted R-squared: 0.8279\n",
      "\n",
      "Decision Tree Model:\n",
      "R-squared: 0.6245\n",
      "Adjusted R-squared: 0.6128\n"
     ]
    }
   ],
   "source": [
    "print(\"Random Forest Model:\")\n",
    "print(\"R-squared: {:.4f}\".format(r2_rf))\n",
    "print(\"Adjusted R-squared: {:.4f}\".format(adj_r2_rf))\n",
    "print(\"\\nDecision Tree Model:\")\n",
    "print(\"R-squared: {:.4f}\".format(r2_dt))\n",
    "print(\"Adjusted R-squared: {:.4f}\".format(adj_r2_dt))"
   ]
  },
  {
   "cell_type": "code",
   "execution_count": 468,
   "id": "71cd0ace",
   "metadata": {},
   "outputs": [
    {
     "name": "stdout",
     "output_type": "stream",
     "text": [
      "\n",
      "The better performer is: Random Forest\n"
     ]
    }
   ],
   "source": [
    "better_model = \"Random Forest\" if adj_r2_rf > adj_r2_dt else \"Decision Tree\"\n",
    "print(\"\\nThe better performer is:\", better_model)"
   ]
  },
  {
   "cell_type": "code",
   "execution_count": null,
   "id": "39335742",
   "metadata": {},
   "outputs": [],
   "source": []
  },
  {
   "cell_type": "code",
   "execution_count": null,
   "id": "72f70215",
   "metadata": {},
   "outputs": [],
   "source": []
  }
 ],
 "metadata": {
  "kernelspec": {
   "display_name": "Python 3 (ipykernel)",
   "language": "python",
   "name": "python3"
  },
  "language_info": {
   "codemirror_mode": {
    "name": "ipython",
    "version": 3
   },
   "file_extension": ".py",
   "mimetype": "text/x-python",
   "name": "python",
   "nbconvert_exporter": "python",
   "pygments_lexer": "ipython3",
   "version": "3.11.5"
  }
 },
 "nbformat": 4,
 "nbformat_minor": 5
}
